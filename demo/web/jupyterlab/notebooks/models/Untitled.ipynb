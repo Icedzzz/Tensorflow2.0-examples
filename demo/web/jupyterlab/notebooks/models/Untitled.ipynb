{
 "cells": [
  {
   "cell_type": "markdown",
   "metadata": {},
   "source": [
    "# KENT\n",
    "## 문장 분류 모델"
   ]
  },
  {
   "cell_type": "markdown",
   "metadata": {},
   "source": [
    "### 문장 분류기\n",
    "#### `kent.models.text.TextClassifier`\n",
    "`KENT`에서 사용하는 문장 분류기는 모두 해당 클래스로부터 상속됩니다.\n",
    "\n",
    "##### `fit(X, y)`\n",
    "주어진 입력 `X`와 출력 `y`에 맞게 분류기를 학습합니다.\n",
    "\n",
    "ㅁ\n",
    "주어진 입력 `X`와 출력 `y`에 "
   ]
  },
  {
   "cell_type": "code",
   "execution_count": null,
   "metadata": {},
   "outputs": [],
   "source": []
  }
 ],
 "metadata": {
  "kernelspec": {
   "display_name": "Python 3",
   "language": "python",
   "name": "python3"
  },
  "language_info": {
   "codemirror_mode": {
    "name": "ipython",
    "version": 3
   },
   "file_extension": ".py",
   "mimetype": "text/x-python",
   "name": "python",
   "nbconvert_exporter": "python",
   "pygments_lexer": "ipython3",
   "version": "3.6.8"
  }
 },
 "nbformat": 4,
 "nbformat_minor": 4
}
