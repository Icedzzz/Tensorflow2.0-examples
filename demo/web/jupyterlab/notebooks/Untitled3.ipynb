{
 "cells": [
  {
   "cell_type": "code",
   "execution_count": 1,
   "metadata": {},
   "outputs": [],
   "source": [
    "import mecab\n"
   ]
  },
  {
   "cell_type": "code",
   "execution_count": 2,
   "metadata": {},
   "outputs": [],
   "source": [
    "tagger = mecab.MeCab()"
   ]
  },
  {
   "cell_type": "code",
   "execution_count": 9,
   "metadata": {},
   "outputs": [
    {
     "name": "stdout",
     "output_type": "stream",
     "text": [
      "전기/NNG 요금/NNG 알려/VV+EC 주/VX 세요/EP+EF "
     ]
    }
   ],
   "source": [
    "for m, t in tagger.pos('전기 요금 알려주세요'):\n",
    "    print(f'{m}/{t}', end=' ')"
   ]
  },
  {
   "cell_type": "code",
   "execution_count": 37,
   "metadata": {},
   "outputs": [],
   "source": [
    "t = set()\n"
   ]
  },
  {
   "cell_type": "code",
   "execution_count": 50,
   "metadata": {},
   "outputs": [],
   "source": [
    "e = tagger.pos('전기 요금 납부 할래요')"
   ]
  },
  {
   "cell_type": "code",
   "execution_count": 51,
   "metadata": {},
   "outputs": [
    {
     "data": {
      "text/plain": [
       "[('전기', 'NNG'), ('요금', 'NNG'), ('납부', 'NNG'), ('할래요', 'XSV+EC')]"
      ]
     },
     "execution_count": 51,
     "metadata": {},
     "output_type": "execute_result"
    }
   ],
   "source": [
    "e"
   ]
  },
  {
   "cell_type": "code",
   "execution_count": 46,
   "metadata": {},
   "outputs": [],
   "source": [
    "e= tagger.pos('편의점에서 전기 요금 납부가 가능한가요')"
   ]
  },
  {
   "cell_type": "code",
   "execution_count": 47,
   "metadata": {},
   "outputs": [
    {
     "data": {
      "text/plain": [
       "[('편의점', 'NNG'),\n",
       " ('에서', 'JKB'),\n",
       " ('전기', 'NNG'),\n",
       " ('요금', 'NNG'),\n",
       " ('납부', 'NNG'),\n",
       " ('가', 'JKS'),\n",
       " ('가능', 'NNG'),\n",
       " ('한가요', 'XSA+EC')]"
      ]
     },
     "execution_count": 47,
     "metadata": {},
     "output_type": "execute_result"
    }
   ],
   "source": [
    "e"
   ]
  },
  {
   "cell_type": "code",
   "execution_count": 41,
   "metadata": {},
   "outputs": [],
   "source": [
    "for i in range(len(e)):\n",
    "    s = f'{e[i][0]}'\n",
    "    t.add(s)\n",
    "    \n",
    "for i in range(len(e) - 1):\n",
    "    s = f'{e[i][0]}/{e[i+1][0]}'\n",
    "    t.add(s)"
   ]
  },
  {
   "cell_type": "code",
   "execution_count": 42,
   "metadata": {},
   "outputs": [
    {
     "name": "stdout",
     "output_type": "stream",
     "text": [
      "가\n",
      "가/가능\n",
      "가능\n",
      "가능/한가요\n",
      "납부\n",
      "납부/가\n",
      "도\n",
      "도/납부\n",
      "세요\n",
      "알려\n",
      "알려/주\n",
      "에서\n",
      "에서/도\n",
      "요금\n",
      "요금/알려\n",
      "전기\n",
      "전기/요금\n",
      "주\n",
      "주/세요\n",
      "편의점\n",
      "편의점/에서\n",
      "한가요\n"
     ]
    }
   ],
   "source": [
    "for a in sorted(t):\n",
    "    print(a)"
   ]
  },
  {
   "cell_type": "code",
   "execution_count": null,
   "metadata": {},
   "outputs": [],
   "source": []
  }
 ],
 "metadata": {
  "kernelspec": {
   "display_name": "Python 3",
   "language": "python",
   "name": "python3"
  },
  "language_info": {
   "codemirror_mode": {
    "name": "ipython",
    "version": 3
   },
   "file_extension": ".py",
   "mimetype": "text/x-python",
   "name": "python",
   "nbconvert_exporter": "python",
   "pygments_lexer": "ipython3",
   "version": "3.6.8"
  }
 },
 "nbformat": 4,
 "nbformat_minor": 4
}
