{
 "cells": [
  {
   "cell_type": "code",
   "execution_count": 1,
   "metadata": {},
   "outputs": [],
   "source": [
    "import json\n",
    "\n",
    "corpus = json.load(open('kepco.json', 'r', encoding='utf-8'))"
   ]
  },
  {
   "cell_type": "code",
   "execution_count": 4,
   "metadata": {},
   "outputs": [
    {
     "name": "stdout",
     "output_type": "stream",
     "text": [
      "전기/요금/납부\n",
      "문의하다/CAN > 선납\n",
      "전기요금을 미리 결제할 수 있나요?\n",
      "미리 전기세를 납부하고 싶습니다\n",
      "전기세를 미리 납부하고 싶습니다\n",
      "전기료 선납이 가능합니까?\n",
      "전기료를 미리 지불하고 싶어요\n"
     ]
    },
    {
     "name": "stdin",
     "output_type": "stream",
     "text": [
      " \n"
     ]
    },
    {
     "name": "stdout",
     "output_type": "stream",
     "text": [
      "전기/요금/납부\n",
      "문의하다/CAN > 발행/현금영수증\n",
      "전기요금의 현금영수증 발행이 가능합니까?\n",
      "전기세의 현금영수증 신청이 가능합니까?\n",
      "전기료 현금영수증 발급이 가능합니까?\n",
      "전기요금의 현금영수증 발급이 가능합니까?\n",
      "전기요금도 현금영수증 발급이 가능합니까?\n"
     ]
    },
    {
     "name": "stdin",
     "output_type": "stream",
     "text": [
      " \n"
     ]
    },
    {
     "name": "stdout",
     "output_type": "stream",
     "text": [
      "전기/요금/납부\n",
      "문의하다/WHEN > 미납/단전\n",
      "전기료를 얼마나 내지 않으면 단전이 되나요?\n",
      "전기요금이 몇개월 밀리면 전기가 끊기나요?\n",
      "전기료를 몇개월 안 내면 단전이 되나요?\n",
      "전기세를 얼마나 안 내면 전기가 끊기나요?\n",
      "전기료를 얼마나 내지 않으면 단전이 됩니까?\n"
     ]
    },
    {
     "name": "stdin",
     "output_type": "stream",
     "text": [
      " \n"
     ]
    },
    {
     "name": "stdout",
     "output_type": "stream",
     "text": [
      "전기/요금/납부\n",
      "문의하다/HOW > 미납/연체료\n",
      "전기세를 미납한 경우 연체료율은 몇 퍼센트입니까?\n",
      "전기세 미납 연체료는 어떻게 되나요?\n",
      "전기요금 미납 연체료율은 얼마인가요?\n",
      "전기세가 밀린 경우 연체료율이 어떻게 되나요?\n",
      "전기요금 미납 연체료는 어떻게 계산되나요?\n"
     ]
    },
    {
     "name": "stdin",
     "output_type": "stream",
     "text": [
      " \n"
     ]
    },
    {
     "name": "stdout",
     "output_type": "stream",
     "text": [
      "전기/요금/납부\n",
      "문의하다/CAN > 납부/편의점\n",
      "전기세 납부를 편의점에서 할 수 있나요?\n",
      "편의점에서 전기세 지불이 가능한가요?\n",
      "편의점에서도 전기료를 납부할 수 있나요?\n",
      "편의점에서도 전기료 납부가 가능한가요?\n",
      "전기료를 편의점에서 지불할 수 있나요?\n"
     ]
    },
    {
     "name": "stdin",
     "output_type": "stream",
     "text": [
      " \n"
     ]
    },
    {
     "name": "stdout",
     "output_type": "stream",
     "text": [
      "전기/요금\n",
      "문의하다/HOW > 계산/기본료\n",
      "전기세 기본료가 뭔지 알려주세요\n",
      "전기요금 기본료은 무엇이고 어떻게 계산합니까?\n",
      "전기세 기본요금에 대해서 설명해주세요\n",
      "전기요금 기본요금은 어떤 방법으로 산출되나요?\n",
      "전기세 기본요금이 무엇인가요?\n"
     ]
    },
    {
     "name": "stdin",
     "output_type": "stream",
     "text": [
      " \n"
     ]
    },
    {
     "name": "stdout",
     "output_type": "stream",
     "text": [
      "전기/요금\n",
      "문의하다/HOW > 계산/전기료\n",
      "전기료는 어떻게 산출되나요?\n",
      "전기요금은 어떻게 계산되나요?\n",
      "전기요금 산출은 어떻게 진행되나요?\n",
      "전기료 산출은 어떻게 진행되나요?\n",
      "전기요금은 어떻게 산출되나요?\n"
     ]
    },
    {
     "name": "stdin",
     "output_type": "stream",
     "text": [
      " \n"
     ]
    },
    {
     "name": "stdout",
     "output_type": "stream",
     "text": [
      "전기/요금\n",
      "문의하다/WHY > 누진제\n",
      "왜 주거용 전기료에 누진제를 적용하나요?\n",
      "왜 전기요금에 누진세를 부과하나요?\n",
      "왜 주택용 전기세에 누진 금액을 부과하나요?\n",
      " 전기세에 누진료를 적용하는 이유는 무엇입니까?\n",
      "왜 주택용 전기세에만 누진 금액을 부과하나요?\n"
     ]
    },
    {
     "name": "stdin",
     "output_type": "stream",
     "text": [
      " \n"
     ]
    },
    {
     "name": "stdout",
     "output_type": "stream",
     "text": [
      "전기/요금\n",
      "문의하다/HOW > 누진제\n",
      "주거용 전기료의 누진료는 어떻게 산출되나요?\n",
      "주택용 전기요금의 누진료는 어떻게 산출되나요?\n",
      " 전기료의 누진세는 어떻게 계산되나요?\n",
      "누진세 계산 과정을 설명해주세요.\n",
      "누진료 계산 과정을 설명해주세요.\n"
     ]
    },
    {
     "name": "stdin",
     "output_type": "stream",
     "text": [
      " \n"
     ]
    },
    {
     "name": "stdout",
     "output_type": "stream",
     "text": [
      "전기/요금\n",
      "문의하다 > 감면/자연재해\n",
      "호우로 피해를 입은 경우 할인을 받을 수 있나요?\n",
      "지진으로 피해를 입은 경우 할인을 받을 수 있나요?\n",
      "태풍와 같은 자연재해로 인해 피해를 본 고객에 대한 전기요금 감면제도가 있습니까?\n",
      "지진와 같은 자연재해로 인해 피해를 입은 고객에 대한 전기료 감면제도가 있나요?\n",
      "홍수로 피해를 입은 경우 감면을 받을 수 있습니까?\n"
     ]
    },
    {
     "ename": "KeyboardInterrupt",
     "evalue": "",
     "output_type": "error",
     "traceback": [
      "\u001b[0;31m---------------------------------------------------------------------------\u001b[0m",
      "\u001b[0;31mKeyboardInterrupt\u001b[0m                         Traceback (most recent call last)",
      "\u001b[0;32m/usr/local/lib/python3.6/dist-packages/ipykernel/kernelbase.py\u001b[0m in \u001b[0;36m_input_request\u001b[0;34m(self, prompt, ident, parent, password)\u001b[0m\n\u001b[1;32m    884\u001b[0m             \u001b[0;32mtry\u001b[0m\u001b[0;34m:\u001b[0m\u001b[0;34m\u001b[0m\u001b[0;34m\u001b[0m\u001b[0m\n\u001b[0;32m--> 885\u001b[0;31m                 \u001b[0mident\u001b[0m\u001b[0;34m,\u001b[0m \u001b[0mreply\u001b[0m \u001b[0;34m=\u001b[0m \u001b[0mself\u001b[0m\u001b[0;34m.\u001b[0m\u001b[0msession\u001b[0m\u001b[0;34m.\u001b[0m\u001b[0mrecv\u001b[0m\u001b[0;34m(\u001b[0m\u001b[0mself\u001b[0m\u001b[0;34m.\u001b[0m\u001b[0mstdin_socket\u001b[0m\u001b[0;34m,\u001b[0m \u001b[0;36m0\u001b[0m\u001b[0;34m)\u001b[0m\u001b[0;34m\u001b[0m\u001b[0;34m\u001b[0m\u001b[0m\n\u001b[0m\u001b[1;32m    886\u001b[0m             \u001b[0;32mexcept\u001b[0m \u001b[0mException\u001b[0m\u001b[0;34m:\u001b[0m\u001b[0;34m\u001b[0m\u001b[0;34m\u001b[0m\u001b[0m\n",
      "\u001b[0;32m/usr/local/lib/python3.6/dist-packages/jupyter_client/session.py\u001b[0m in \u001b[0;36mrecv\u001b[0;34m(self, socket, mode, content, copy)\u001b[0m\n\u001b[1;32m    802\u001b[0m         \u001b[0;32mtry\u001b[0m\u001b[0;34m:\u001b[0m\u001b[0;34m\u001b[0m\u001b[0;34m\u001b[0m\u001b[0m\n\u001b[0;32m--> 803\u001b[0;31m             \u001b[0mmsg_list\u001b[0m \u001b[0;34m=\u001b[0m \u001b[0msocket\u001b[0m\u001b[0;34m.\u001b[0m\u001b[0mrecv_multipart\u001b[0m\u001b[0;34m(\u001b[0m\u001b[0mmode\u001b[0m\u001b[0;34m,\u001b[0m \u001b[0mcopy\u001b[0m\u001b[0;34m=\u001b[0m\u001b[0mcopy\u001b[0m\u001b[0;34m)\u001b[0m\u001b[0;34m\u001b[0m\u001b[0;34m\u001b[0m\u001b[0m\n\u001b[0m\u001b[1;32m    804\u001b[0m         \u001b[0;32mexcept\u001b[0m \u001b[0mzmq\u001b[0m\u001b[0;34m.\u001b[0m\u001b[0mZMQError\u001b[0m \u001b[0;32mas\u001b[0m \u001b[0me\u001b[0m\u001b[0;34m:\u001b[0m\u001b[0;34m\u001b[0m\u001b[0;34m\u001b[0m\u001b[0m\n",
      "\u001b[0;32m/usr/local/lib/python3.6/dist-packages/zmq/sugar/socket.py\u001b[0m in \u001b[0;36mrecv_multipart\u001b[0;34m(self, flags, copy, track)\u001b[0m\n\u001b[1;32m    469\u001b[0m         \"\"\"\n\u001b[0;32m--> 470\u001b[0;31m         \u001b[0mparts\u001b[0m \u001b[0;34m=\u001b[0m \u001b[0;34m[\u001b[0m\u001b[0mself\u001b[0m\u001b[0;34m.\u001b[0m\u001b[0mrecv\u001b[0m\u001b[0;34m(\u001b[0m\u001b[0mflags\u001b[0m\u001b[0;34m,\u001b[0m \u001b[0mcopy\u001b[0m\u001b[0;34m=\u001b[0m\u001b[0mcopy\u001b[0m\u001b[0;34m,\u001b[0m \u001b[0mtrack\u001b[0m\u001b[0;34m=\u001b[0m\u001b[0mtrack\u001b[0m\u001b[0;34m)\u001b[0m\u001b[0;34m]\u001b[0m\u001b[0;34m\u001b[0m\u001b[0;34m\u001b[0m\u001b[0m\n\u001b[0m\u001b[1;32m    471\u001b[0m         \u001b[0;31m# have first part already, only loop while more to receive\u001b[0m\u001b[0;34m\u001b[0m\u001b[0;34m\u001b[0m\u001b[0;34m\u001b[0m\u001b[0m\n",
      "\u001b[0;32mzmq/backend/cython/socket.pyx\u001b[0m in \u001b[0;36mzmq.backend.cython.socket.Socket.recv\u001b[0;34m()\u001b[0m\n",
      "\u001b[0;32mzmq/backend/cython/socket.pyx\u001b[0m in \u001b[0;36mzmq.backend.cython.socket.Socket.recv\u001b[0;34m()\u001b[0m\n",
      "\u001b[0;32mzmq/backend/cython/socket.pyx\u001b[0m in \u001b[0;36mzmq.backend.cython.socket._recv_copy\u001b[0;34m()\u001b[0m\n",
      "\u001b[0;32m/usr/local/lib/python3.6/dist-packages/zmq/backend/cython/checkrc.pxd\u001b[0m in \u001b[0;36mzmq.backend.cython.checkrc._check_rc\u001b[0;34m()\u001b[0m\n",
      "\u001b[0;31mKeyboardInterrupt\u001b[0m: ",
      "\nDuring handling of the above exception, another exception occurred:\n",
      "\u001b[0;31mKeyboardInterrupt\u001b[0m                         Traceback (most recent call last)",
      "\u001b[0;32m<ipython-input-4-d158a24c30a5>\u001b[0m in \u001b[0;36m<module>\u001b[0;34m\u001b[0m\n\u001b[1;32m     10\u001b[0m         \u001b[0mprint\u001b[0m\u001b[0;34m(\u001b[0m\u001b[0ms\u001b[0m\u001b[0;34m)\u001b[0m\u001b[0;34m\u001b[0m\u001b[0;34m\u001b[0m\u001b[0m\n\u001b[1;32m     11\u001b[0m \u001b[0;34m\u001b[0m\u001b[0m\n\u001b[0;32m---> 12\u001b[0;31m     \u001b[0minput\u001b[0m\u001b[0;34m(\u001b[0m\u001b[0;34m)\u001b[0m\u001b[0;34m\u001b[0m\u001b[0;34m\u001b[0m\u001b[0m\n\u001b[0m",
      "\u001b[0;32m/usr/local/lib/python3.6/dist-packages/ipykernel/kernelbase.py\u001b[0m in \u001b[0;36mraw_input\u001b[0;34m(self, prompt)\u001b[0m\n\u001b[1;32m    858\u001b[0m             \u001b[0mself\u001b[0m\u001b[0;34m.\u001b[0m\u001b[0m_parent_ident\u001b[0m\u001b[0;34m,\u001b[0m\u001b[0;34m\u001b[0m\u001b[0;34m\u001b[0m\u001b[0m\n\u001b[1;32m    859\u001b[0m             \u001b[0mself\u001b[0m\u001b[0;34m.\u001b[0m\u001b[0m_parent_header\u001b[0m\u001b[0;34m,\u001b[0m\u001b[0;34m\u001b[0m\u001b[0;34m\u001b[0m\u001b[0m\n\u001b[0;32m--> 860\u001b[0;31m             \u001b[0mpassword\u001b[0m\u001b[0;34m=\u001b[0m\u001b[0;32mFalse\u001b[0m\u001b[0;34m,\u001b[0m\u001b[0;34m\u001b[0m\u001b[0;34m\u001b[0m\u001b[0m\n\u001b[0m\u001b[1;32m    861\u001b[0m         )\n\u001b[1;32m    862\u001b[0m \u001b[0;34m\u001b[0m\u001b[0m\n",
      "\u001b[0;32m/usr/local/lib/python3.6/dist-packages/ipykernel/kernelbase.py\u001b[0m in \u001b[0;36m_input_request\u001b[0;34m(self, prompt, ident, parent, password)\u001b[0m\n\u001b[1;32m    888\u001b[0m             \u001b[0;32mexcept\u001b[0m \u001b[0mKeyboardInterrupt\u001b[0m\u001b[0;34m:\u001b[0m\u001b[0;34m\u001b[0m\u001b[0;34m\u001b[0m\u001b[0m\n\u001b[1;32m    889\u001b[0m                 \u001b[0;31m# re-raise KeyboardInterrupt, to truncate traceback\u001b[0m\u001b[0;34m\u001b[0m\u001b[0;34m\u001b[0m\u001b[0;34m\u001b[0m\u001b[0m\n\u001b[0;32m--> 890\u001b[0;31m                 \u001b[0;32mraise\u001b[0m \u001b[0mKeyboardInterrupt\u001b[0m\u001b[0;34m\u001b[0m\u001b[0;34m\u001b[0m\u001b[0m\n\u001b[0m\u001b[1;32m    891\u001b[0m             \u001b[0;32melse\u001b[0m\u001b[0;34m:\u001b[0m\u001b[0;34m\u001b[0m\u001b[0;34m\u001b[0m\u001b[0m\n\u001b[1;32m    892\u001b[0m                 \u001b[0;32mbreak\u001b[0m\u001b[0;34m\u001b[0m\u001b[0;34m\u001b[0m\u001b[0m\n",
      "\u001b[0;31mKeyboardInterrupt\u001b[0m: "
     ]
    }
   ],
   "source": [
    "import random\n",
    "\n",
    "for c in corpus:\n",
    "    if len(c['sentences']) < 10\n",
    "    \n",
    "    :\n",
    "        continue\n",
    "        \n",
    "    print(c['domain'])\n",
    "    print(c['intent'], '>', c['objective'])\n",
    "    for s in random.sample(c['sentences'], 5):\n",
    "        print(s)\n",
    "    \n",
    "    input()"
   ]
  },
  {
   "cell_type": "code",
   "execution_count": null,
   "metadata": {},
   "outputs": [],
   "source": [
    "전기/요금/납부\n",
    "문의하다/CAN > 선납\n",
    "전기요금을 미리 결제할 수 있나요?\n",
    "미리 전기세를 납부하고 싶습니다\n",
    "전기세를 미리 납부하고 싶습니다\n",
    "전기료 선납이 가능합니까?\n",
    "전기료를 미리 지불하고 싶어요\n",
    " \n",
    "전기/요금/납부\n",
    "문의하다/CAN > 발행/현금영수증\n",
    "전기요금의 현금영수증 발행이 가능합니까?\n",
    "전기세의 현금영수증 신청이 가능합니까?\n",
    "전기료 현금영수증 발급이 가능합니까?\n",
    "전기요금의 현금영수증 발급이 가능합니까?\n",
    "전기요금도 현금영수증 발급이 가능합니까?\n",
    " \n",
    "전기/요금/납부\n",
    "문의하다/WHEN > 미납/단전\n",
    "전기료를 얼마나 내지 않으면 단전이 되나요?\n",
    "전기요금이 몇개월 밀리면 전기가 끊기나요?\n",
    "전기료를 몇개월 안 내면 단전이 되나요?\n",
    "전기세를 얼마나 안 내면 전기가 끊기나요?\n",
    "전기료를 얼마나 내지 않으면 단전이 됩니까?\n",
    " \n",
    "전기/요금/납부\n",
    "문의하다/HOW > 미납/연체료\n",
    "전기세를 미납한 경우 연체료율은 몇 퍼센트입니까?\n",
    "전기세 미납 연체료는 어떻게 되나요?\n",
    "전기요금 미납 연체료율은 얼마인가요?\n",
    "전기세가 밀린 경우 연체료율이 어떻게 되나요?\n",
    "전기요금 미납 연체료는 어떻게 계산되나요?\n",
    " \n",
    "전기/요금/납부\n",
    "문의하다/CAN > 납부/편의점\n",
    "전기세 납부를 편의점에서 할 수 있나요?\n",
    "편의점에서 전기세 지불이 가능한가요?\n",
    "편의점에서도 전기료를 납부할 수 있나요?\n",
    "편의점에서도 전기료 납부가 가능한가요?\n",
    "전기료를 편의점에서 지불할 수 있나요?\n",
    " \n",
    "전기/요금\n",
    "문의하다/HOW > 계산/기본료\n",
    "전기세 기본료가 뭔지 알려주세요\n",
    "전기요금 기본료은 무엇이고 어떻게 계산합니까?\n",
    "전기세 기본요금에 대해서 설명해주세요\n",
    "전기요금 기본요금은 어떤 방법으로 산출되나요?\n",
    "전기세 기본요금이 무엇인가요?\n",
    " \n",
    "전기/요금\n",
    "문의하다/HOW > 계산/전기료\n",
    "전기료는 어떻게 산출되나요?\n",
    "전기요금은 어떻게 계산되나요?\n",
    "전기요금 산출은 어떻게 진행되나요?\n",
    "전기료 산출은 어떻게 진행되나요?\n",
    "전기요금은 어떻게 산출되나요?\n",
    " \n",
    "전기/요금\n",
    "문의하다/WHY > 누진제\n",
    "왜 주거용 전기료에 누진제를 적용하나요?\n",
    "왜 전기요금에 누진세를 부과하나요?\n",
    "왜 주택용 전기세에 누진 금액을 부과하나요?\n",
    " 전기세에 누진료를 적용하 ㅡㅅ,ㅜ는 이유는 무엇입니까?\n",
    "왜 주택용 전기세에만 누진 금액을 부과하나요?\n",
    " \n",
    "전기/요금\n",
    "문의하다/HOW > 누진제\n",
    "주거용 전기료의 누진료는 어떻게 산출되나요?\n",
    "주택용 전기요금의 누진료는 어떻게 산출되나요?\n",
    " 전기료의 누진세는 어떻게 계산되나요?\n",
    "누진세 계산 과정을 설명해주세요.\n",
    "누진료 계산 과정을 설명해주세요.\n",
    " \n",
    "전기/요금\n",
    "문의하다 > 감면/자연재해\n",
    "호우로 피해를 입은 경우 할인을 받을 수 있나요?\n",
    "지진으로 피해를 입은 경우 할인을 받을 수 있나요?\n",
    "태풍와 같은 자연재해로 인해 피해를 본 고객에 대한 전기요금 감면제도가 있습니까?\n",
    "지진와 같은 자연재해로 인해 피해를 입은 고객에 대한 전기료 감면제도가 있나요?\n",
    "홍수로 피해를 입은 경우 감면을 받을 수 있습니까?\n"
   ]
  },
  {
   "cell_type": "code",
   "execution_count": null,
   "metadata": {},
   "outputs": [],
   "source": []
  },
  {
   "cell_type": "code",
   "execution_count": null,
   "metadata": {},
   "outputs": [],
   "source": []
  }
 ],
 "metadata": {
  "kernelspec": {
   "display_name": "Python 3",
   "language": "python",
   "name": "python3"
  },
  "language_info": {
   "codemirror_mode": {
    "name": "ipython",
    "version": 3
   },
   "file_extension": ".py",
   "mimetype": "text/x-python",
   "name": "python",
   "nbconvert_exporter": "python",
   "pygments_lexer": "ipython3",
   "version": "3.6.8"
  }
 },
 "nbformat": 4,
 "nbformat_minor": 4
}
